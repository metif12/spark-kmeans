{
  "cells": [
    {
      "cell_type": "markdown",
      "metadata": {
        "id": "qXetHDyKcdO0"
      },
      "source": [
        "#Mahdi ramezaan zaade (40024544)\n",
        "Dr. Mashayekhi, Spark exercise"
      ]
    },
    {
      "cell_type": "markdown",
      "metadata": {
        "id": "V41JtsEGyJDz"
      },
      "source": [
        "# install packages and download dataset"
      ]
    },
    {
      "cell_type": "code",
      "execution_count": 1,
      "metadata": {
        "colab": {
          "base_uri": "https://localhost:8080/"
        },
        "id": "jhNsAH77KbUX",
        "outputId": "71969f4d-8293-4ab2-9aa9-8daf9c069db7"
      },
      "outputs": [
        {
          "name": "stdout",
          "output_type": "stream",
          "text": [
            "Looking in indexes: https://pypi.org/simple, https://us-python.pkg.dev/colab-wheels/public/simple/\n",
            "Collecting pyspark\n",
            "  Downloading pyspark-3.2.1.tar.gz (281.4 MB)\n",
            "\u001b[K     |████████████████████████████████| 281.4 MB 27 kB/s \n",
            "\u001b[?25hRequirement already satisfied: scipy in /usr/local/lib/python3.7/dist-packages (1.4.1)\n",
            "Requirement already satisfied: pandas in /usr/local/lib/python3.7/dist-packages (1.3.5)\n",
            "Collecting py4j==0.10.9.3\n",
            "  Downloading py4j-0.10.9.3-py2.py3-none-any.whl (198 kB)\n",
            "\u001b[K     |████████████████████████████████| 198 kB 50.1 MB/s \n",
            "\u001b[?25hRequirement already satisfied: numpy>=1.13.3 in /usr/local/lib/python3.7/dist-packages (from scipy) (1.21.6)\n",
            "Requirement already satisfied: python-dateutil>=2.7.3 in /usr/local/lib/python3.7/dist-packages (from pandas) (2.8.2)\n",
            "Requirement already satisfied: pytz>=2017.3 in /usr/local/lib/python3.7/dist-packages (from pandas) (2022.1)\n",
            "Requirement already satisfied: six>=1.5 in /usr/local/lib/python3.7/dist-packages (from python-dateutil>=2.7.3->pandas) (1.15.0)\n",
            "Building wheels for collected packages: pyspark\n",
            "  Building wheel for pyspark (setup.py) ... \u001b[?25l\u001b[?25hdone\n",
            "  Created wheel for pyspark: filename=pyspark-3.2.1-py2.py3-none-any.whl size=281853642 sha256=562d3f1bb3b005fdebb96785c3da8a72bc31313f5937915bc5171008c406456e\n",
            "  Stored in directory: /root/.cache/pip/wheels/9f/f5/07/7cd8017084dce4e93e84e92efd1e1d5334db05f2e83bcef74f\n",
            "Successfully built pyspark\n",
            "Installing collected packages: py4j, pyspark\n",
            "Successfully installed py4j-0.10.9.3 pyspark-3.2.1\n",
            "--2022-06-06 16:27:02--  https://raw.githubusercontent.com/deric/clustering-benchmark/master/src/main/resources/datasets/artificial/fourty.arff\n",
            "Resolving raw.githubusercontent.com (raw.githubusercontent.com)... 185.199.108.133, 185.199.109.133, 185.199.110.133, ...\n",
            "Connecting to raw.githubusercontent.com (raw.githubusercontent.com)|185.199.108.133|:443... connected.\n",
            "HTTP request sent, awaiting response... 200 OK\n",
            "Length: 19266 (19K) [text/plain]\n",
            "Saving to: ‘fourty.arff’\n",
            "\n",
            "fourty.arff         100%[===================>]  18.81K  --.-KB/s    in 0s      \n",
            "\n",
            "2022-06-06 16:27:02 (73.3 MB/s) - ‘fourty.arff’ saved [19266/19266]\n",
            "\n"
          ]
        }
      ],
      "source": [
        "!pip install pyspark scipy pandas\n",
        "!wget https://raw.githubusercontent.com/deric/clustering-benchmark/master/src/main/resources/datasets/artificial/fourty.arff"
      ]
    },
    {
      "cell_type": "markdown",
      "metadata": {
        "id": "SJeB5lMjEig4"
      },
      "source": [
        "# load dataset\n",
        "dataset consist of points that each has three columns:\n",
        "\n",
        "\n",
        "*   x: horizontal postion of a point\n",
        "*   y: vertical postion of a point\n",
        "*   class: numeric category of point wich it belong to\n",
        "\n",
        "\n",
        "to work with data in spark we need data in form of a spark Rdd dataframe. rdd can be generated from pandas dataframe. first we convert our weka dataset (arff format) to a pandas dataframe. scipy package that is preinstalled can do this convertion.\n",
        "\n",
        "we implement this convertion process as a function that return our generated pandas dataframe."
      ]
    },
    {
      "cell_type": "code",
      "execution_count": 2,
      "metadata": {
        "id": "xN8o0lt8LRJV"
      },
      "outputs": [],
      "source": [
        "from scipy.io import arff\n",
        "import pandas as pd\n",
        "\n",
        "def df_generator():\n",
        "  data = arff.loadarff('fourty.arff')\n",
        "  df = pd.DataFrame(data[0])\n",
        "  df['class'] = df['class'].astype(int)\n",
        "  return df"
      ]
    },
    {
      "cell_type": "markdown",
      "metadata": {
        "id": "99CUce5mEnqf"
      },
      "source": [
        "\n",
        "# create spark context and session\n",
        "for using spark we should create a `SparkContext` thah is used for clusters management by spark. then we create our Rdd dataframe with `SparkSession`."
      ]
    },
    {
      "cell_type": "code",
      "execution_count": 3,
      "metadata": {
        "id": "5mp1U_Iio_jO"
      },
      "outputs": [],
      "source": [
        "from pyspark.sql import SparkSession\n",
        "from pyspark import SparkContext,SparkConf\n",
        "\n",
        "sc = SparkContext('local','MMD').getOrCreate()\n",
        "ss = SparkSession.builder.getOrCreate()\n",
        "\n",
        "df = ss.createDataFrame(df_generator(), ['x','y','class'])"
      ]
    },
    {
      "cell_type": "markdown",
      "metadata": {
        "id": "3hS2Me9qEvEk"
      },
      "source": [
        "# normilize and split data\n",
        "\n",
        "to use spark `Normalizer` for normilizing our `x` and `y` columns we should create a new `Vector` column of those columns. we do this with help of spark `VectorAssembler`. the name of new vector column that will be created is `features`. then we use `Normalizer` on `featurse` column to create new `featurse_norm` vector column that is normalized vector of features vector.\n",
        "to do this process in pralell with spark we will create a `Pipeline` and pass our process stages. \n",
        "\n",
        "at last step we call `randomSplit` function to split data in two dataset wich one contain 10 and other one contain 90 percent of data selected randomly."
      ]
    },
    {
      "cell_type": "code",
      "execution_count": 4,
      "metadata": {
        "colab": {
          "base_uri": "https://localhost:8080/"
        },
        "id": "D56p2cCjtNFX",
        "outputId": "721938a8-4175-4f60-eb71-84c83a6408c1"
      },
      "outputs": [
        {
          "data": {
            "text/plain": [
              "Row(x=-1.64307, y=16.7766, class=20, features=DenseVector([-1.6431, 16.7766]), features_norm=DenseVector([-0.0892, 0.9108]))"
            ]
          },
          "execution_count": 4,
          "metadata": {},
          "output_type": "execute_result"
        }
      ],
      "source": [
        "from pyspark.ml.feature import VectorAssembler, StandardScaler, OneHotEncoder, StringIndexer, Normalizer\n",
        "from pyspark.ml.linalg import Vectors\n",
        "from pyspark.ml import Pipeline\n",
        "\n",
        "assembler = VectorAssembler(inputCols=['x','y'], outputCol='features')\n",
        "normalizer = Normalizer(inputCol='features', outputCol='features_norm', p=1.0)\n",
        "\n",
        "pipeline = Pipeline(stages=[assembler, normalizer])\n",
        "\n",
        "data_model = pipeline.fit(df)\n",
        "transformed_df = data_model.transform(df)\n",
        "\n",
        "[test,train] = transformed_df.randomSplit([0.1,0.9])\n",
        "train.head()"
      ]
    },
    {
      "cell_type": "markdown",
      "metadata": {
        "id": "cdqXqH1jFCfR"
      },
      "source": [
        "# run k-means algorithem and evalute the model\n",
        "`spark.ml` have both K-Means algorithem & clustring evaluteror. first we create our evalutor using `ClusteringEvaluator` and the set `featues_norm` as features column of data.\n",
        "\n",
        "then we create our Kmeans model and set k = 40 and `featues_norm` as features column. in next step we fit model on train dataframe. then use test dataframe to get output of model prediction on it called `predition`. now we evalute output using our evalutor and print the score."
      ]
    },
    {
      "cell_type": "code",
      "execution_count": 5,
      "metadata": {
        "colab": {
          "base_uri": "https://localhost:8080/"
        },
        "id": "NRmrW4Zrly1B",
        "outputId": "616aeac7-b123-499c-e65f-5c5e13714f59"
      },
      "outputs": [
        {
          "name": "stdout",
          "output_type": "stream",
          "text": [
            "Silhouette with squared euclidean distance = 0.6552771062402343\n"
          ]
        }
      ],
      "source": [
        "from pyspark.ml.clustering import KMeans\n",
        "from pyspark.ml.evaluation import ClusteringEvaluator\n",
        "\n",
        "kmeans = KMeans(featuresCol=\"features_norm\", predictionCol='prediction', k=40, seed=1)\n",
        "kmeans_model = kmeans.fit(train)\n",
        "predictions = kmeans_model.transform(test)\n",
        "\n",
        "evaluator = ClusteringEvaluator(predictionCol='prediction', featuresCol='features_norm', metricName='silhouette', distanceMeasure='squaredEuclidean')\n",
        "\n",
        "silhouette = evaluator.evaluate(predictions)\n",
        "print(\"Silhouette with squared euclidean distance = \" + str(silhouette))"
      ]
    },
    {
      "cell_type": "markdown",
      "metadata": {
        "id": "twO8Gp2w47CI"
      },
      "source": [
        "#visualize\n",
        "first we visualize `test` dataframe with real categories of data to see how points are categorized so we can compare it to our model predictions."
      ]
    },
    {
      "cell_type": "code",
      "execution_count": 6,
      "metadata": {
        "colab": {
          "base_uri": "https://localhost:8080/",
          "height": 284
        },
        "id": "FAvHBBWiOZK3",
        "outputId": "c46ec52a-209f-4638-98ec-aae78a545647"
      },
      "outputs": [
        {
          "data": {
            "text/plain": [
              "<matplotlib.collections.PathCollection at 0x7f9091f7d2d0>"
            ]
          },
          "execution_count": 6,
          "metadata": {},
          "output_type": "execute_result"
        },
        {
          "data": {
            "image/png": "[encoded data removed]",
            "text/plain": [
              "<Figure size 432x288 with 1 Axes>"
            ]
          },
          "metadata": {
            "needs_background": "light"
          },
          "output_type": "display_data"
        }
      ],
      "source": [
        "import matplotlib.pyplot as plt\n",
        "\n",
        "d = predictions.toPandas()\n",
        "plt.scatter(d['x'], d['y'], c=d['class'])"
      ]
    },
    {
      "cell_type": "markdown",
      "metadata": {
        "id": "sINBCPgg4-Ph"
      },
      "source": [
        "now we visualize `test` dataframe with our model categories prediction and compare it with original categories of pionts visualy."
      ]
    },
    {
      "cell_type": "code",
      "execution_count": 7,
      "metadata": {
        "colab": {
          "base_uri": "https://localhost:8080/",
          "height": 284
        },
        "id": "hUoeBSCX45De",
        "outputId": "b59735cf-3219-4284-ad65-8dbb3b9abfdb"
      },
      "outputs": [
        {
          "data": {
            "text/plain": [
              "<matplotlib.collections.PathCollection at 0x7f9091eeee50>"
            ]
          },
          "execution_count": 7,
          "metadata": {},
          "output_type": "execute_result"
        },
        {
          "data": {
            "image/png": "[encoded data removed]",
            "text/plain": [
              "<Figure size 432x288 with 1 Axes>"
            ]
          },
          "metadata": {
            "needs_background": "light"
          },
          "output_type": "display_data"
        }
      ],
      "source": [
        "plt.scatter(d['x'], d['y'], c=d['prediction'])"
      ]
    },
    {
      "cell_type": "markdown",
      "metadata": {
        "id": "9wiPMrKW1Z_x"
      },
      "source": [
        "end."
      ]
    }
  ],
  "metadata": {
    "colab": {
      "collapsed_sections": [],
      "name": "mmd-spark1.ipynb",
      "provenance": []
    },
    "kernelspec": {
      "display_name": "Python 3",
      "name": "python3"
    },
    "language_info": {
      "name": "python"
    }
  },
  "nbformat": 4,
  "nbformat_minor": 0
}
